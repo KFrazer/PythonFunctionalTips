{
 "cells": [
  {
   "cell_type": "markdown",
   "metadata": {},
   "source": [
    "# Keith's Awesome Python Guide\n",
    "## Notable Libraries\n",
    " * Jupyter Notebook\n",
    " * Pandas\n",
    " * Numpy\n",
    " * SciPy"
   ]
  },
  {
   "cell_type": "markdown",
   "metadata": {},
   "source": [
    "## Functional Magic\n",
    "One of the things that makes python so great for interviews is its functional programming capabilities. This allows us to succinctly and quickly express algorithms. Functional tips and tricks in Python include:\n",
    " * List and Dictionary comprehensions\n",
    " * Lists as stacks and queues\n",
    " * List slicing\n",
    " * Map, Reduce, and Filter functions\n",
    " * Zip function and Itertools library\n",
    " * Min and Max functions (with keys!)"
   ]
  },
  {
   "cell_type": "markdown",
   "metadata": {},
   "source": [
    "### List and Dictionary Comprehensions"
   ]
  },
  {
   "cell_type": "code",
   "execution_count": 1,
   "metadata": {
    "collapsed": false
   },
   "outputs": [
    {
     "name": "stdout",
     "output_type": "stream",
     "text": [
      "[0, 1, 2, 3, 4, 5, 6, 7, 8, 9]\n",
      "{0: 'r', 1: 'a', 2: 'n', 3: 'd', 4: 'o', 5: 'm', 6: 'w', 7: 'o', 8: 'r', 9: 'd'}\n"
     ]
    }
   ],
   "source": [
    "print [i for i in range(10)]\n",
    "print {i: j for i, j in zip(range(10), \"randomword\")}"
   ]
  },
  {
   "cell_type": "markdown",
   "metadata": {},
   "source": [
    "Power move! Flattening a 2d list:"
   ]
  },
  {
   "cell_type": "code",
   "execution_count": 2,
   "metadata": {
    "collapsed": false
   },
   "outputs": [
    {
     "name": "stdout",
     "output_type": "stream",
     "text": [
      "['This', 'will', 'put', 'each', 'of', 'these', 'words', 'in', 'a', 'single', 'flat', 'list.']\n"
     ]
    }
   ],
   "source": [
    "the_2d_list = [[\"This\", \"will\"],[\"put\", \"each\", \"of\"], [\"these\", \"words\", \"in\", \"a\"],[\"single\"],[\"flat\"], [\"list.\"]]\n",
    "print [word for _list in the_2d_list for word in _list]"
   ]
  },
  {
   "cell_type": "markdown",
   "metadata": {},
   "source": [
    "### Lists as stacks and queues\n",
    "Lists have pop, append, and insert methods. Pop can take an optional index parameter, which can let you take from the front or back of the list. By default, pop takes the last item in the list, which makes it act like a stack. If you take from the front your list will behave like a queue, but be aware that taking from the front has O(n) run time (back is O(1)).\n",
    "\n",
    "Power move! A list returns true while it contains elements and false once it is empty."
   ]
  },
  {
   "cell_type": "code",
   "execution_count": 5,
   "metadata": {
    "collapsed": false
   },
   "outputs": [
    {
     "name": "stdout",
     "output_type": "stream",
     "text": [
      "1\n",
      "2\n",
      "3\n",
      "4\n",
      "5\n",
      "6\n",
      "7\n",
      "8\n",
      "9\n",
      "10\n",
      "11\n",
      "12\n"
     ]
    }
   ],
   "source": [
    "crazy_deep_list = [[[12],[11],[[[[10],[9]],[8],[7]],[[[[6],[5],[[[4],[3]]],[2]]]],[1]]]]\n",
    "stack = [crazy_deep_list]\n",
    "while stack:\n",
    "    elem = stack.pop()\n",
    "    if isinstance(elem, int):\n",
    "        print elem\n",
    "    else:\n",
    "        for item in elem:\n",
    "            stack.append(item)"
   ]
  },
  {
   "cell_type": "markdown",
   "metadata": {},
   "source": [
    "### List Slicing\n",
    "Sure, it sounds basic, but did you know that you can use negative indexes to take from the back of the list? Or that you can pass in a step parameter as well as a start and stop? This is incredibly useful for reversing lists and strings."
   ]
  },
  {
   "cell_type": "code",
   "execution_count": 8,
   "metadata": {
    "collapsed": false
   },
   "outputs": [
    {
     "name": "stdout",
     "output_type": "stream",
     "text": [
      "lists\n",
      "stsil sa llew sa tsuj sgnirts rof skrow sihT\n"
     ]
    }
   ],
   "source": [
    "example = \"This works for strings just as well as lists\"\n",
    "print example[-5:]\n",
    "print example[::-1]"
   ]
  },
  {
   "cell_type": "markdown",
   "metadata": {},
   "source": [
    "### Lambdas\n",
    "These are kinda basic, but I'm gonna use them all over the place below so they need to be mentioned. Lambdas are a way to create anonymous functions. You could assign them to variables to use later, but they are more useful for creating temproray functions to pass in to other functions that require them as parameters. Syntax is simple! See below:"
   ]
  },
  {
   "cell_type": "code",
   "execution_count": 33,
   "metadata": {
    "collapsed": false
   },
   "outputs": [
    {
     "name": "stdout",
     "output_type": "stream",
     "text": [
      "24\n",
      "14\n",
      "35!\n"
     ]
    }
   ],
   "source": [
    "print (lambda x, y: x * y)(3,8)\n",
    "print (lambda x: x * 2)(7)\n",
    "print (lambda x: str(x) + \"!\")(35)"
   ]
  },
  {
   "cell_type": "markdown",
   "metadata": {},
   "source": [
    "### Map, Reduce, Filter\n",
    "These three functions are incredibly useful for whiteboard exercises. Filter is often not terribly efficient- you're frequently better off iterating through the list and trying to clean the input all at once. During interviews though I'll mention that caveat and then write the filter functions out though because they are shorter to write, cleaner, and clearly communicate their purpose. All of these functions take a function and a list as input. Map can take more than one list as an input."
   ]
  },
  {
   "cell_type": "code",
   "execution_count": 9,
   "metadata": {
    "collapsed": false
   },
   "outputs": [
    {
     "name": "stdout",
     "output_type": "stream",
     "text": [
      "[1, 2, 3, 4, 5, 6, 7, 8, 9, 10]\n",
      "[2, 4, 6, 8, 10]\n",
      "3628800\n"
     ]
    }
   ],
   "source": [
    "string_numbers = [\"1\", \"2\", \"3\", \"4\", \"5\", \"6\", \"7\", \"8\", \"9\", \"10\"]\n",
    "\n",
    "converted_numbers = map(int, string_numbers)\n",
    "print converted_numbers\n",
    "print filter(lambda x: x%2==0, converted_numbers)\n",
    "print reduce(lambda x,y: x * y, converted_numbers)"
   ]
  },
  {
   "cell_type": "markdown",
   "metadata": {},
   "source": [
    "Power move! Using delta lists and map/filter to find neighbors."
   ]
  },
  {
   "cell_type": "code",
   "execution_count": 27,
   "metadata": {
    "collapsed": false
   },
   "outputs": [
    {
     "name": "stdout",
     "output_type": "stream",
     "text": [
      "Here is what our list of neighbors looks like at the start:\n",
      "[(1, 0), (0, 1)]\n",
      "\n",
      "We found our exit!\n"
     ]
    }
   ],
   "source": [
    "grid5by5 = [[1,1,1,1,0],\n",
    "            [1,0,0,1,0],\n",
    "            [1,1,0,1,1],\n",
    "            [0,1,0,0,0],\n",
    "            [0,1,1,1,2]]\n",
    "\n",
    "delta = [(1,0), (0,1), (-1,0), (0,-1)]\n",
    "stack = [(0, 0)]\n",
    "closed = set(stack)\n",
    "while stack:\n",
    "    pos = stack.pop()\n",
    "    \n",
    "    # The magic!\n",
    "    neighbors = map(lambda x: (x[0] + pos[0], x[1] + pos[1]), delta)\n",
    "    neighbors = filter(lambda x: 0 <= x[0] < 5 and 0 <= x[1] < 5, neighbors) \n",
    "    # Python is the rare language where this y <= z < x syntax works.\n",
    "    neighbors = filter(lambda x: grid5by5[pos[0]][pos[1]] > 0, neighbors)\n",
    "    # /magic\n",
    "    \n",
    "    if pos == (0, 0):\n",
    "        print \"Here is what our list of neighbors looks like at the start:\\n%s\\n\"%(neighbors)\n",
    "    \n",
    "    for x, y in neighbors:\n",
    "        if grid5by5[x][y] == 2:\n",
    "            print \"We found our exit!\"\n",
    "            break\n",
    "        if (x, y) not in closed:\n",
    "            stack.append((x, y))\n",
    "            closed.add((x, y))"
   ]
  },
  {
   "cell_type": "markdown",
   "metadata": {
    "collapsed": true
   },
   "source": [
    "### Zip and Itertools\n",
    "These tools are great for advanced methods to iterate through lists. Zip can do all sorts of crazy things, but the most basic usage is to iterate through two lists simultaneously. The most basic itertools functions are product, combinations, and permutations. Those cover most possible ways you might need to work through lists. I'll show how to combine these into lists, because they print denser, but you could loop through them in a for loop as well. Examples away!"
   ]
  },
  {
   "cell_type": "code",
   "execution_count": 24,
   "metadata": {
    "collapsed": false
   },
   "outputs": [
    {
     "name": "stdout",
     "output_type": "stream",
     "text": [
      "[(1, 'a'), (2, 'b'), (3, 'c'), (4, 'd'), (5, 'e'), (6, 'f'), (7, 'g'), (8, 'h'), (9, 'i')]\n",
      "9 \n",
      "\n",
      "[(1, 'a'), (1, 'b'), (1, 'c'), (1, 'd'), (1, 'e'), (1, 'f'), (1, 'g'), (1, 'h'), (1, 'i'), (2, 'a'), (2, 'b'), (2, 'c'), (2, 'd'), (2, 'e'), (2, 'f'), (2, 'g'), (2, 'h'), (2, 'i'), (3, 'a'), (3, 'b'), (3, 'c'), (3, 'd'), (3, 'e'), (3, 'f'), (3, 'g'), (3, 'h'), (3, 'i'), (4, 'a'), (4, 'b'), (4, 'c'), (4, 'd'), (4, 'e'), (4, 'f'), (4, 'g'), (4, 'h'), (4, 'i'), (5, 'a'), (5, 'b'), (5, 'c'), (5, 'd'), (5, 'e'), (5, 'f'), (5, 'g'), (5, 'h'), (5, 'i'), (6, 'a'), (6, 'b'), (6, 'c'), (6, 'd'), (6, 'e'), (6, 'f'), (6, 'g'), (6, 'h'), (6, 'i'), (7, 'a'), (7, 'b'), (7, 'c'), (7, 'd'), (7, 'e'), (7, 'f'), (7, 'g'), (7, 'h'), (7, 'i'), (8, 'a'), (8, 'b'), (8, 'c'), (8, 'd'), (8, 'e'), (8, 'f'), (8, 'g'), (8, 'h'), (8, 'i'), (9, 'a'), (9, 'b'), (9, 'c'), (9, 'd'), (9, 'e'), (9, 'f'), (9, 'g'), (9, 'h'), (9, 'i')]\n",
      "81 \n",
      "\n",
      "['car', 'cat', 'cas', 'crt', 'crs', 'cts', 'art', 'ars', 'ats', 'rts']\n",
      "10 \n",
      "\n",
      "['car', 'cat', 'cas', 'cra', 'crt', 'crs', 'cta', 'ctr', 'cts', 'csa', 'csr', 'cst', 'acr', 'act', 'acs', 'arc', 'art', 'ars', 'atc', 'atr', 'ats', 'asc', 'asr', 'ast', 'rca', 'rct', 'rcs', 'rac', 'rat', 'ras', 'rtc', 'rta', 'rts', 'rsc', 'rsa', 'rst', 'tca', 'tcr', 'tcs', 'tac', 'tar', 'tas', 'trc', 'tra', 'trs', 'tsc', 'tsa', 'tsr', 'sca', 'scr', 'sct', 'sac', 'sar', 'sat', 'src', 'sra', 'srt', 'stc', 'sta', 'str']\n",
      "60 \n",
      "\n"
     ]
    }
   ],
   "source": [
    "import itertools\n",
    "\n",
    "numbers = [1, 2, 3, 4, 5, 6, 7, 8, 9]\n",
    "letters = [\"a\", \"b\", \"c\", \"d\", \"e\", \"f\", \"g\", \"h\", \"i\"]\n",
    "short = [\"c\", \"a\", \"r\", \"t\", \"s\"]\n",
    "\n",
    "zipped_lists = [x for x in zip(numbers, letters)]\n",
    "print zipped_lists\n",
    "print len(zipped_lists), \"\\n\"\n",
    "\n",
    "product_lists = [x for x in itertools.product(numbers, letters)]\n",
    "print product_lists\n",
    "print len(product_lists), \"\\n\"\n",
    "\n",
    "combination_short = [\"\".join(x) for x in itertools.combinations(short, 3)]\n",
    "print combination_short\n",
    "print len(combination_short), \"\\n\"\n",
    "\n",
    "permutation_short = [\"\".join(x) for x in itertools.permutations(short, 3)]\n",
    "print permutation_short\n",
    "print len(permutation_short), \"\\n\""
   ]
  },
  {
   "cell_type": "markdown",
   "metadata": {},
   "source": [
    "### To Min or Max?\n",
    "\n",
    "These functions are pretty basic, but they illustrate a powerful aspect of Python. These functions take a key argument! I was surprised when I first discovered as well. So experiment! Don't take these functions for granted, look deeper into what optional arguments they take."
   ]
  },
  {
   "cell_type": "code",
   "execution_count": 35,
   "metadata": {
    "collapsed": false
   },
   "outputs": [
    {
     "name": "stdout",
     "output_type": "stream",
     "text": [
      "Shortest word: pear\n",
      "Longest word: strawberry\n"
     ]
    }
   ],
   "source": [
    "words = [\"strawberry\", \"apple\", \"pear\", \"pineapple\", \"burrito\"]\n",
    "print \"Shortest word: %s\"%(min(words, key=lambda x: len(x)))\n",
    "print \"Longest word: %s\"%(max(words, key=lambda x: len(x)))"
   ]
  }
 ],
 "metadata": {
  "kernelspec": {
   "display_name": "Python 2",
   "language": "python",
   "name": "python2"
  },
  "language_info": {
   "codemirror_mode": {
    "name": "ipython",
    "version": 2
   },
   "file_extension": ".py",
   "mimetype": "text/x-python",
   "name": "python",
   "nbconvert_exporter": "python",
   "pygments_lexer": "ipython2",
   "version": "2.7.10"
  }
 },
 "nbformat": 4,
 "nbformat_minor": 0
}
